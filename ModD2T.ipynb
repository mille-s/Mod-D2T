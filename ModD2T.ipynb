{
  "nbformat": 4,
  "nbformat_minor": 0,
  "metadata": {
    "colab": {
      "provenance": [],
      "authorship_tag": "ABX9TyM3aj+tHt8zA05mNGgyr8h+",
      "include_colab_link": true
    },
    "kernelspec": {
      "name": "python3",
      "display_name": "Python 3"
    },
    "language_info": {
      "name": "python"
    }
  },
  "cells": [
    {
      "cell_type": "markdown",
      "metadata": {
        "id": "view-in-github",
        "colab_type": "text"
      },
      "source": [
        "<a href=\"https://colab.research.google.com/github/mille-s/Mod-D2T/blob/main/ModD2T.ipynb\" target=\"_parent\"><img src=\"https://colab.research.google.com/assets/colab-badge.svg\" alt=\"Open In Colab\"/></a>"
      ]
    },
    {
      "cell_type": "code",
      "execution_count": null,
      "metadata": {
        "id": "hfDpapKKKcCf"
      },
      "outputs": [],
      "source": [
        "# Run this cell to prepare the working folder and install Java 8\n",
        "from IPython.display import clear_output\n",
        "import os\n",
        "import sys\n",
        "\n",
        "# clone Mod-D2T repo\n",
        "! git clone https://github.com/mille-s/Mod-D2T.git\n",
        "# Delete locally to avoid confusion\n",
        "! rm 'Mod-D2T/ModD2T.ipynb'\n",
        "\n",
        "# clone M-FleNS repo (generation pipeline)\n",
        "! git clone https://github.com/mille-s/M-FleNS_NLG-Pipeline.git\n",
        "# Delete locally to avoid confusion\n",
        "! rm 'M-FleNS_NLG-Pipeline/M_FleNS_pipe_v2.ipynb'\n",
        "\n",
        "# Download FORGe (text generator)\n",
        "# V2 was used for the INLG paper\n",
        "! gdown 1K99nCrBX2RTVMhDcPEgF0usfJYnwtE-w\n",
        "! unzip /content/FORGe_colab_v2.zip\n",
        "! rm '/content/FORGe_colab_v2.zip'\n",
        "# V4 is being tested for the Mod-D2T-GA data\n",
        "# ! gdown 196w_EtORTkR3idaXDMq0xl3pOtBrGbiE\n",
        "# ! unzip /content/FORGe_colab_v4.zip\n",
        "# ! rm '/content/FORGe_colab_v4.zip'\n",
        "\n",
        "# Install parsimonious (used for parsing .str files)\n",
        "! pip install parsimonious\n",
        "\n",
        "# Clean\n",
        "clear_output()\n",
        "print('Working folder ready!\\n--------------')\n",
        "\n",
        "# Run to switch to Java 1.8 (needed for FORGe to run correctly)\n",
        "def install_java():\n",
        "  !apt-get install -y openjdk-8-jdk-headless -qq > /dev/null      #install openjdk\n",
        "  os.environ[\"JAVA_HOME\"] = \"/usr/lib/jvm/java-8-openjdk-amd64\"     #set environment variable\n",
        "  !update-alternatives --set java /usr/lib/jvm/java-8-openjdk-amd64/jre/bin/java\n",
        "  !java -version       #check java version\n",
        "install_java()"
      ]
    },
    {
      "cell_type": "markdown",
      "source": [
        "# Part 1: Convert input triples to linguistic structures\n",
        "The last cell of this block can be used to erase the input files automatically (it's a bit tedious by hand if there are many)."
      ],
      "metadata": {
        "id": "uol236MK7QVz"
      }
    },
    {
      "cell_type": "code",
      "source": [
        "# For the moment, you can download the outputs of the conversion and copy the desired inputs of the same split in the str_PredArg_folder (see below).\n",
        "! gdown 1MQJnUWEUlELpd-mnWmsdTkJNpIPeIA48\n",
        "! unzip /content/00-PredArg-train.zip\n",
        "! rm '/content/00-PredArg-train.zip'\n",
        "\n",
        "! gdown 1qOA17TYg__89euDjQliOPrywYwgecwBc\n",
        "! unzip /content/00-PredArg-test.zip\n",
        "! rm '/content/00-PredArg-test.zip'\n",
        "\n",
        "! gdown 1vm5A5WRGmnjOPrq8GsNjF3JCRGqhxigp\n",
        "! unzip /content/00-PredArg-dev.zip\n",
        "! rm '/content/00-PredArg-dev.zip'\n",
        "\n",
        "clear_output()"
      ],
      "metadata": {
        "id": "IBGuKDQhR6l2"
      },
      "execution_count": 2,
      "outputs": []
    },
    {
      "cell_type": "code",
      "source": [
        "# Copy some PredArg structures in the input folder used for generation\n",
        "\n",
        "import glob\n",
        "import os\n",
        "\n",
        "predArg_conv_folder = '/content/00-PredArg-dev'\n",
        "# predArg_conv_folder = '/content/00-PredArg-test'\n",
        "# predArg_conv_folder = '/content/00-PredArg-train'\n",
        "list_predArgPaths = glob.glob(os.path.join(predArg_conv_folder, '*.conll'))\n",
        "c = 0\n",
        "for predArgPath in list_predArgPaths:\n",
        "  PAfilename = os.path.split(predArgPath)[-1]\n",
        "  ! cp {predArgPath} '/content/FORGe/structures/00-PredArg/'{PAfilename}\n",
        "  c += 1\n",
        "print('Copied '+str(c)+' files.')"
      ],
      "metadata": {
        "id": "YgNIx9vHWK19"
      },
      "execution_count": null,
      "outputs": []
    },
    {
      "cell_type": "code",
      "source": [
        "# Empty input folder to copy other inputs instead\n",
        "# list_predArgPathsCC = glob.glob(os.path.join('/content/FORGe/structures/00-PredArg/', '*.conll'))\n",
        "# for predArgPathCC in list_predArgPathsCC:\n",
        "#   ! rm {predArgPathCC}"
      ],
      "metadata": {
        "id": "b_iQQfvuYE3l"
      },
      "execution_count": 23,
      "outputs": []
    },
    {
      "cell_type": "markdown",
      "source": [
        "# Part 2: Generate texts and intermediate representations"
      ],
      "metadata": {
        "id": "dh_llell7XZz"
      }
    },
    {
      "cell_type": "code",
      "source": [
        "# 1. Run this cell to set parameters for generation\n",
        "\n",
        "# The input structure(s) of the correct type should be placed in the folder that corresponds to the first module called in the next cell\n",
        "# E.g. if one a module PredArg_... or DSynt_... is selected, the input predicate-argument structures should be placed in the structures/00-PredArg folder\n",
        "# I'll make the instructions and names clearer in a later (actually usable) version.\n",
        "\n",
        "############# Select language #############\n",
        "# GA and ES not supported for this version of the pipeline (ES will break on some structures and Morphology is missing for GA)\n",
        "language = 'EN' #@param['EN', 'ES', 'GA']\n",
        "\n",
        "############# Select module grouping #############\n",
        "# Group consecutive modules for the same system or call each module separately.\n",
        "# Select 'no' to get all intermediate representations ('no' for Mod-D2T), 'yes' if you're only interested in the output.\n",
        "group_modules_prm = 'no' #@param['yes', 'no']\n",
        "\n",
        "############# Select dataset split #############\n",
        "split = \"dev\" #@param['dev', 'test','train']\n",
        "\n",
        "#######################################################################\n",
        "\n",
        "# Modules to run, with type of processing (FORGe, Model1, SimpleNLG, etc.).\n",
        "# Only FORGe is supported for this prototype version.\n",
        "# All modules are mandatory except: PredArg_Aggregation, SSynt_Aggregation, RE_Generation\n",
        "PredArg_Normalisation = 'FORGe'\n",
        "# To have an external module assigning triples to aggregate\n",
        "PredArg_AggregationMark = 'None'\n",
        "PredArg_Aggregation = 'FORGe'\n",
        "PredArg_PoSTagging = 'FORGe'\n",
        "PredArg_CommStructuring = 'FORGe'\n",
        "DSynt_Structuring = 'FORGe'\n",
        "SSynt_Structuring = 'FORGe'\n",
        "SSynt_Aggregation = 'FORGe'\n",
        "RE_Generation = 'FORGe'\n",
        "DMorph_AgreementsLinearisation = 'FORGe'\n",
        "SMorph_Processing = 'FORGe'\n",
        "\n",
        "#######################################################################\n",
        "# Paths to python files\n",
        "path_MFleNS = '/content/M-FleNS_NLG-Pipeline/code/M-FleNS.py'\n",
        "path_checkOutputs = '/content/M-FleNS_NLG-Pipeline/code/M-FleNS-checkOutputs.py'\n",
        "path_concatenate = '/content/M-FleNS_NLG-Pipeline/code/concatenate_files.py'\n",
        "path_postProc = '/content/M-FleNS_NLG-Pipeline/code/postProcess.py'\n",
        "\n",
        "#######################################################################\n",
        "# Paths to FORGe/MATE folders and property files\n",
        "FORGe_input_folder = '/content/FORGe/buddy_project/struct'\n",
        "path_MATE = '/content/FORGe/buddy-patched.jar'\n",
        "path_props_resources_template = '/content/FORGe/mateColabDrive.properties'\n",
        "path_props_levels = '/content/FORGe/mateLevels.properties'\n",
        "path_props = '/content/FORGe/mate.properties'\n",
        "\n",
        "# Paths to general folders\n",
        "# The input structure(s) of the correct type should be placed in the folder that corresponds to the first module called in the next cell\n",
        "path_strs = '/content/FORGe/structures'\n",
        "str_PredArg_folder = os.path.join(path_strs, '00-PredArg')\n",
        "str_PredArgNorm_folder = os.path.join(path_strs, '01-PredArgNorm')\n",
        "str_PredArgAggMark_folder = os.path.join(path_strs, '02-PredArgAggMark')\n",
        "str_PredArgAgg_folder = os.path.join(path_strs, '03-PredArgAgg')\n",
        "str_PredArgPoS_folder = os.path.join(path_strs, '04-PredArgPoS')\n",
        "str_PredArgComm_folder = os.path.join(path_strs, '05-PredArgComm')\n",
        "str_DSynt_folder = os.path.join(path_strs, '06-DSynt')\n",
        "str_SSynt_folder = os.path.join(path_strs, '07-SSynt')\n",
        "str_SSyntAgg_folder = os.path.join(path_strs, '08-SSyntAgg')\n",
        "str_REG_folder = os.path.join(path_strs, '09-REG')\n",
        "str_DMorphLin_folder = os.path.join(path_strs, '10-DMorphLin')\n",
        "str_SMorphText_folder = os.path.join(path_strs, '11-SMorphText')\n",
        "log_folder = '/content/FORGe/log'\n",
        "if not os.path.exists(log_folder):\n",
        "  os.makedirs(log_folder)\n",
        "clean_out_str_folder = '/content/Mod-D2T/str'\n",
        "if not os.path.exists(clean_out_str_folder):\n",
        "  os.makedirs(clean_out_str_folder)"
      ],
      "metadata": {
        "id": "CvKpKx825EwM"
      },
      "execution_count": 25,
      "outputs": []
    },
    {
      "cell_type": "code",
      "source": [
        "# 2. Launch generation process\n",
        "! python {path_MFleNS} {language} {split} {group_modules_prm} {PredArg_Normalisation} {PredArg_AggregationMark} {PredArg_Aggregation} {PredArg_PoSTagging} {PredArg_CommStructuring} {DSynt_Structuring} {SSynt_Structuring} {SSynt_Aggregation} {RE_Generation} {DMorph_AgreementsLinearisation} {SMorph_Processing} {FORGe_input_folder} {path_MATE} {path_props_resources_template} {path_props_levels} {path_props} {str_PredArg_folder} {str_PredArgNorm_folder} {str_PredArgAggMark_folder} {str_PredArgAgg_folder} {str_PredArgPoS_folder} {str_PredArgComm_folder} {str_DSynt_folder} {str_SSynt_folder} {str_SSyntAgg_folder} {str_REG_folder} {str_DMorphLin_folder} {str_SMorphText_folder} {log_folder}"
      ],
      "metadata": {
        "id": "PzvfHJ2p720p"
      },
      "execution_count": null,
      "outputs": []
    },
    {
      "cell_type": "code",
      "source": [
        "# 3. (optional) Check outputs\n",
        "! python {path_checkOutputs} {str_PredArg_folder} {str_SMorphText_folder} {log_folder} {clean_out_str_folder} {language}"
      ],
      "metadata": {
        "id": "ALTWhMG072d3"
      },
      "execution_count": null,
      "outputs": []
    },
    {
      "cell_type": "code",
      "source": [
        "# Use if you upload structures generated from another pipeline instrad of using the previous cells\n",
        "#  ! unzip /content/structures.zip"
      ],
      "metadata": {
        "id": "58G3zsg7NZV_"
      },
      "execution_count": null,
      "outputs": []
    },
    {
      "cell_type": "code",
      "source": [
        "# 4. Concatenate outputs of each level and copy to Mod-D2T folder\n",
        "! python {path_concatenate} {str_PredArgNorm_folder} {clean_out_str_folder} {split}\n",
        "# Not used for now ! python {path_concatenate} {str_PredArgAggMark_folder} {clean_out_str_folder} {split}\n",
        "! python {path_concatenate} {str_PredArgAgg_folder} {clean_out_str_folder} {split}\n",
        "! python {path_concatenate} {str_PredArgPoS_folder} {clean_out_str_folder} {split}\n",
        "! python {path_concatenate} {str_PredArgComm_folder} {clean_out_str_folder} {split}\n",
        "! python {path_concatenate} {str_DSynt_folder} {clean_out_str_folder} {split}\n",
        "! python {path_concatenate} {str_SSynt_folder} {clean_out_str_folder} {split}\n",
        "! python {path_concatenate} {str_SSyntAgg_folder} {clean_out_str_folder} {split}\n",
        "! python {path_concatenate} {str_REG_folder} {clean_out_str_folder} {split}\n",
        "! python {path_concatenate} {str_DMorphLin_folder} {clean_out_str_folder} {split}\n",
        "! python {path_concatenate} {str_SMorphText_folder} {clean_out_str_folder} {split}\n",
        "clear_output()"
      ],
      "metadata": {
        "id": "GKr9_GBcUUfL"
      },
      "execution_count": 17,
      "outputs": []
    },
    {
      "cell_type": "markdown",
      "source": [
        "#Part 3: Clean and save the dataset, create stats and figures"
      ],
      "metadata": {
        "id": "wAeS8EZm7i7L"
      }
    },
    {
      "cell_type": "code",
      "source": [
        "# 1. Parameters\n",
        "ROOT        = '/content/Mod-D2T/'\n",
        "SCRIPTS_DIR = os.path.join(ROOT, 'scripts')\n",
        "STR_DIR     = os.path.join(ROOT, 'str')\n",
        "CONLLU_DIR  = os.path.join(ROOT, 'conllu')\n",
        "EXTRACT_DIR = os.path.join(ROOT, 'extracted')\n",
        "TEX_DIR     = os.path.join(ROOT, 'tex')\n",
        "EXTRACT_ID  = 1\n",
        "EXTRACT_SEC = split\n",
        "TEXT_FILE   = '00-Text_postproc.txt'\n",
        "ENCODING    = 'utf-8'\n",
        "\n",
        "# sys.path.append(SCRIPTS_DIR)\n",
        "if os.path.exists('/content/Mod-D2T/str/.ipynb_checkpoints'):\n",
        "  ! rmdir '/content/Mod-D2T/str/.ipynb_checkpoints'"
      ],
      "metadata": {
        "id": "4dQsigX68Seq"
      },
      "execution_count": 18,
      "outputs": []
    },
    {
      "cell_type": "code",
      "source": [
        "# 2. apply post-processing to outputs\n",
        "str_out_subfolder = os.path.join(STR_DIR, split)\n",
        "! python {path_postProc} {language} {str_out_subfolder}"
      ],
      "metadata": {
        "id": "-bFse1oTN-i8"
      },
      "execution_count": null,
      "outputs": []
    },
    {
      "cell_type": "code",
      "source": [
        "# 3. Convert .str files in STR_DIR to .conllu format and save to CONLLU_DIR\n",
        "! python3 {SCRIPTS_DIR}/convert.py -i {STR_DIR} -o {CONLLU_DIR} -t {TEXT_FILE} -e {ENCODING}"
      ],
      "metadata": {
        "id": "dDILe0kD8c8m"
      },
      "execution_count": null,
      "outputs": []
    },
    {
      "cell_type": "code",
      "source": [
        "# 4. (optional) Prepare files for visualising chosen example in first cell of Part 3, get stats\n",
        "# Extract structures for a text specified by its ID. They will be taken from the section specified by EXTRACT_SEC.\n",
        "! python3 {SCRIPTS_DIR}/extract.py -x {EXTRACT_ID} -i {CONLLU_DIR}/{EXTRACT_SEC} -o {EXTRACT_DIR} -e {ENCODING}\n",
        "# Export structures as LaTeX tables.\n",
        "! python3 {SCRIPTS_DIR}/export.py -i {EXTRACT_DIR} -o {TEX_DIR} -e {ENCODING}\n",
        "# Compile statistics.\n",
        "! python {SCRIPTS_DIR}/stats.py -i {CONLLU_DIR} -o {TEX_DIR} -e {ENCODING}"
      ],
      "metadata": {
        "id": "e9WYkQJZ8jsQ"
      },
      "execution_count": null,
      "outputs": []
    },
    {
      "cell_type": "markdown",
      "source": [
        "#Part 4: Zip and download"
      ],
      "metadata": {
        "id": "tIDfxda3QrgB"
      }
    },
    {
      "cell_type": "code",
      "source": [
        "# 5. Zip and download Mod-D2T data\n",
        "from google.colab import files\n",
        "zip_name_conllu = '/content/ModD2T_['+language+'].zip'\n",
        "!zip -r {zip_name_conllu} /content/Mod-D2T/conllu\n",
        "\n",
        "clear_output()\n",
        "\n",
        "files.download(zip_name_conllu)\n",
        "# print('Donwloaded dataset!')\n",
        "# ! rm {zip_name_conllu}"
      ],
      "metadata": {
        "colab": {
          "base_uri": "https://localhost:8080/",
          "height": 17
        },
        "id": "V_MSikKO94lY",
        "outputId": "f2f9f4e6-6c3c-4618-8453-5a7c1235b185"
      },
      "execution_count": 32,
      "outputs": [
        {
          "output_type": "display_data",
          "data": {
            "text/plain": [
              "<IPython.core.display.Javascript object>"
            ],
            "application/javascript": [
              "\n",
              "    async function download(id, filename, size) {\n",
              "      if (!google.colab.kernel.accessAllowed) {\n",
              "        return;\n",
              "      }\n",
              "      const div = document.createElement('div');\n",
              "      const label = document.createElement('label');\n",
              "      label.textContent = `Downloading \"${filename}\": `;\n",
              "      div.appendChild(label);\n",
              "      const progress = document.createElement('progress');\n",
              "      progress.max = size;\n",
              "      div.appendChild(progress);\n",
              "      document.body.appendChild(div);\n",
              "\n",
              "      const buffers = [];\n",
              "      let downloaded = 0;\n",
              "\n",
              "      const channel = await google.colab.kernel.comms.open(id);\n",
              "      // Send a message to notify the kernel that we're ready.\n",
              "      channel.send({})\n",
              "\n",
              "      for await (const message of channel.messages) {\n",
              "        // Send a message to notify the kernel that we're ready.\n",
              "        channel.send({})\n",
              "        if (message.buffers) {\n",
              "          for (const buffer of message.buffers) {\n",
              "            buffers.push(buffer);\n",
              "            downloaded += buffer.byteLength;\n",
              "            progress.value = downloaded;\n",
              "          }\n",
              "        }\n",
              "      }\n",
              "      const blob = new Blob(buffers, {type: 'application/binary'});\n",
              "      const a = document.createElement('a');\n",
              "      a.href = window.URL.createObjectURL(blob);\n",
              "      a.download = filename;\n",
              "      div.appendChild(a);\n",
              "      a.click();\n",
              "      div.remove();\n",
              "    }\n",
              "  "
            ]
          },
          "metadata": {}
        },
        {
          "output_type": "display_data",
          "data": {
            "text/plain": [
              "<IPython.core.display.Javascript object>"
            ],
            "application/javascript": [
              "download(\"download_c62b172e-b5d5-4d8f-bf40-c57e2d1b2178\", \"ModD2T_[EN].zip\", 4878843)"
            ]
          },
          "metadata": {}
        }
      ]
    },
    {
      "cell_type": "code",
      "source": [
        "# 6. (optional) Zip and download tex files\n",
        "from google.colab import files\n",
        "zip_name_tex = '/content/ModD2T_['+language+']_examplesTex.zip'\n",
        "!zip -r {zip_name_tex} /content/Mod-D2T/tex\n",
        "\n",
        "clear_output()\n",
        "\n",
        "files.download(zip_name_tex)\n",
        "# print('Donwloaded tex files!')\n",
        "# ! rm {zip_name_tex}"
      ],
      "metadata": {
        "id": "sz6gySPI-tss"
      },
      "execution_count": null,
      "outputs": []
    },
    {
      "cell_type": "code",
      "source": [
        "# 7. (optional) Zip and download FORGE output folder\n",
        "from google.colab import files\n",
        "zip_name_inter = '/content/FORGe_['+language+']_['+split+']_allLevels.zip'\n",
        "!zip -r {zip_name_inter} /content/FORGe/structures\n",
        "\n",
        "clear_output()\n",
        "\n",
        "files.download(zip_name_inter)\n",
        "# print('Donwloaded FORGe structures!')\n",
        "# ! rm {zip_name_inter}"
      ],
      "metadata": {
        "colab": {
          "base_uri": "https://localhost:8080/",
          "height": 17
        },
        "id": "5pwALyTI_MiL",
        "outputId": "24c177e1-f347-45ed-9f7c-9e05bf8e2020"
      },
      "execution_count": 30,
      "outputs": [
        {
          "output_type": "display_data",
          "data": {
            "text/plain": [
              "<IPython.core.display.Javascript object>"
            ],
            "application/javascript": [
              "\n",
              "    async function download(id, filename, size) {\n",
              "      if (!google.colab.kernel.accessAllowed) {\n",
              "        return;\n",
              "      }\n",
              "      const div = document.createElement('div');\n",
              "      const label = document.createElement('label');\n",
              "      label.textContent = `Downloading \"${filename}\": `;\n",
              "      div.appendChild(label);\n",
              "      const progress = document.createElement('progress');\n",
              "      progress.max = size;\n",
              "      div.appendChild(progress);\n",
              "      document.body.appendChild(div);\n",
              "\n",
              "      const buffers = [];\n",
              "      let downloaded = 0;\n",
              "\n",
              "      const channel = await google.colab.kernel.comms.open(id);\n",
              "      // Send a message to notify the kernel that we're ready.\n",
              "      channel.send({})\n",
              "\n",
              "      for await (const message of channel.messages) {\n",
              "        // Send a message to notify the kernel that we're ready.\n",
              "        channel.send({})\n",
              "        if (message.buffers) {\n",
              "          for (const buffer of message.buffers) {\n",
              "            buffers.push(buffer);\n",
              "            downloaded += buffer.byteLength;\n",
              "            progress.value = downloaded;\n",
              "          }\n",
              "        }\n",
              "      }\n",
              "      const blob = new Blob(buffers, {type: 'application/binary'});\n",
              "      const a = document.createElement('a');\n",
              "      a.href = window.URL.createObjectURL(blob);\n",
              "      a.download = filename;\n",
              "      div.appendChild(a);\n",
              "      a.click();\n",
              "      div.remove();\n",
              "    }\n",
              "  "
            ]
          },
          "metadata": {}
        },
        {
          "output_type": "display_data",
          "data": {
            "text/plain": [
              "<IPython.core.display.Javascript object>"
            ],
            "application/javascript": [
              "download(\"download_816bc942-4494-4794-b17a-e2a6dcfc8f99\", \"FORGe_[EN]_[train]_allLevels.zip\", 41805761)"
            ]
          },
          "metadata": {}
        }
      ]
    },
    {
      "cell_type": "code",
      "source": [
        "# 8. (optional) Zip and download FORGe debugging\n",
        "from google.colab import files\n",
        "zip_name_log = '/content/FORGe_['+language+']_log.zip'\n",
        "!zip -r {zip_name_log} /content/FORGe/log\n",
        "\n",
        "clear_output()\n",
        "\n",
        "files.download(zip_name_log)\n",
        "# print('Donwloaded FORGe log!')\n",
        "# ! rm {zip_name_log}"
      ],
      "metadata": {
        "colab": {
          "base_uri": "https://localhost:8080/",
          "height": 17
        },
        "id": "CHDkikoz-9GC",
        "outputId": "e91d3adb-e749-4fcb-9624-e561330c7e49"
      },
      "execution_count": 31,
      "outputs": [
        {
          "output_type": "display_data",
          "data": {
            "text/plain": [
              "<IPython.core.display.Javascript object>"
            ],
            "application/javascript": [
              "\n",
              "    async function download(id, filename, size) {\n",
              "      if (!google.colab.kernel.accessAllowed) {\n",
              "        return;\n",
              "      }\n",
              "      const div = document.createElement('div');\n",
              "      const label = document.createElement('label');\n",
              "      label.textContent = `Downloading \"${filename}\": `;\n",
              "      div.appendChild(label);\n",
              "      const progress = document.createElement('progress');\n",
              "      progress.max = size;\n",
              "      div.appendChild(progress);\n",
              "      document.body.appendChild(div);\n",
              "\n",
              "      const buffers = [];\n",
              "      let downloaded = 0;\n",
              "\n",
              "      const channel = await google.colab.kernel.comms.open(id);\n",
              "      // Send a message to notify the kernel that we're ready.\n",
              "      channel.send({})\n",
              "\n",
              "      for await (const message of channel.messages) {\n",
              "        // Send a message to notify the kernel that we're ready.\n",
              "        channel.send({})\n",
              "        if (message.buffers) {\n",
              "          for (const buffer of message.buffers) {\n",
              "            buffers.push(buffer);\n",
              "            downloaded += buffer.byteLength;\n",
              "            progress.value = downloaded;\n",
              "          }\n",
              "        }\n",
              "      }\n",
              "      const blob = new Blob(buffers, {type: 'application/binary'});\n",
              "      const a = document.createElement('a');\n",
              "      a.href = window.URL.createObjectURL(blob);\n",
              "      a.download = filename;\n",
              "      div.appendChild(a);\n",
              "      a.click();\n",
              "      div.remove();\n",
              "    }\n",
              "  "
            ]
          },
          "metadata": {}
        },
        {
          "output_type": "display_data",
          "data": {
            "text/plain": [
              "<IPython.core.display.Javascript object>"
            ],
            "application/javascript": [
              "download(\"download_692ea076-8f58-4137-a34c-c4a7b52f87da\", \"FORGe_[EN]_log.zip\", 31643)"
            ]
          },
          "metadata": {}
        }
      ]
    }
  ]
}
